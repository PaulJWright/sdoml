{
 "cells": [
  {
   "cell_type": "code",
   "execution_count": 1,
   "id": "289dcd55",
   "metadata": {},
   "outputs": [],
   "source": [
    "import sunpy.map\n",
    "import numpy as np\n",
    "\n",
    "from sdoml import SDOMLDataset"
   ]
  },
  {
   "cell_type": "code",
   "execution_count": null,
   "id": "b1282c2f",
   "metadata": {},
   "outputs": [],
   "source": [
    "# load the dataset with the six optically thin SDO/AIA channels (94A/131A/171A/193A/211A/335A) \n",
    "# from ``fdl-sdoml-v2/sdomlv2_small.zarr``\n",
    "\n",
    "sdomlds = SDOMLDataset(\n",
    "    storage_location=\"gcs\",\n",
    "    zarr_root=\"fdl-sdoml-v2/sdomlv2_small.zarr/\",\n",
    "    cache_max_size=None,\n",
    "    years=[\"2010\"],\n",
    "    instruments=[\"AIA\"],\n",
    "    channels=[\"94A\", \"131A\", \"171A\", \"193A\", \"211A\", \"335A\"],\n",
    "    required_keys=None,\n",
    ")"
   ]
  },
  {
   "cell_type": "code",
   "execution_count": null,
   "id": "970955b1",
   "metadata": {},
   "outputs": [],
   "source": [
    "images, metad = sdomlds.__getitem__(234)"
   ]
  },
  {
   "cell_type": "markdown",
   "id": "21ab997d",
   "metadata": {},
   "source": [
    "### Plotting one set of data"
   ]
  },
  {
   "cell_type": "code",
   "execution_count": null,
   "id": "d9a7a055",
   "metadata": {
    "scrolled": false
   },
   "outputs": [],
   "source": [
    "plt.figure(figsize=(20, 12))\n",
    "\n",
    "for img_index in range(0,6):\n",
    "\n",
    "    # Create a sunpy map with the data\n",
    "    selected_image = images[0,img_index,:,:]\n",
    "    selected_headr = {keys: values[img_index] for keys, values in metad.items()}\n",
    "    my_map = sunpy.map.Map((np.array(selected_image), selected_headr))\n",
    "    \n",
    "    # set the index and plot the sunpy.map\n",
    "    ax = plt.subplot(2, 3, img_index+1, projection=my_map)\n",
    "    my_map.plot()"
   ]
  }
 ],
 "metadata": {
  "kernelspec": {
   "display_name": "Python 3 (ipykernel)",
   "language": "python",
   "name": "python3"
  },
  "language_info": {
   "codemirror_mode": {
    "name": "ipython",
    "version": 3
   },
   "file_extension": ".py",
   "mimetype": "text/x-python",
   "name": "python",
   "nbconvert_exporter": "python",
   "pygments_lexer": "ipython3",
   "version": "3.8.0"
  }
 },
 "nbformat": 4,
 "nbformat_minor": 5
}
