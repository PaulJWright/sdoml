{
 "cells": [
  {
   "cell_type": "code",
   "execution_count": null,
   "id": "2c46b8ce",
   "metadata": {},
   "outputs": [],
   "source": [
    "pip install -e ../../."
   ]
  },
  {
   "cell_type": "code",
   "execution_count": null,
   "id": "56538255",
   "metadata": {},
   "outputs": [],
   "source": [
    "import sunpy.map\n",
    "\n",
    "import matplotlib.pyplot as plt\n",
    "\n",
    "from sdoml import SDOMLDataset\n",
    "from timeit import default_timer as timer"
   ]
  },
  {
   "cell_type": "markdown",
   "id": "80263c12",
   "metadata": {},
   "source": [
    "First, we will instantiate the ``SDOMLDataset`` class, to load one month of \n",
    "the six optically-thin SDO/AIA channels (94A/131A/171A/193A/211A/335A) \n",
    "from ``fdl-sdoml-v2/sdomlv2_small.zarr``"
   ]
  },
  {
   "cell_type": "code",
   "execution_count": null,
   "id": "8f2a6a65",
   "metadata": {
    "scrolled": false
   },
   "outputs": [],
   "source": [
    "sdomlds = SDOMLDataset(\n",
    "    cache_max_size=1 * 512 * 512 * 4096,\n",
    "    years=[\"2010\",],\n",
    "    data_to_load={\n",
    "        \"AIA\": {\n",
    "            \"location\": \"gcs\",\n",
    "            \"root\": \"fdl-sdoml-v2/sdomlv2_small.zarr/\",\n",
    "            \"channels\": [\"94A\", \"131A\", \"171A\", \"193A\", \"211A\", \"335A\"],\n",
    "        },\n",
    "    },\n",
    ")"
   ]
  },
  {
   "cell_type": "markdown",
   "id": "83c6254b",
   "metadata": {},
   "source": [
    "With the Dataset instantiated, we will directly access the dataset using the ``__getitem__`` method. ``sdomlds.__getitem__(idx)`` loads and returns a sample from the dataset at the given index ``idx``.  \n",
    "\n",
    "As will be evident, the first data access for this index is relatively slow (it is retrieved from remote store on Google Cloud Storage), however the second data access is faster, as this uses cache. For more information see https://zarr.readthedocs.io/en/stable/api/storage.html#zarr.storage.LRUStoreCache"
   ]
  },
  {
   "cell_type": "code",
   "execution_count": null,
   "id": "08caf90d",
   "metadata": {},
   "outputs": [],
   "source": [
    "# obtain the first item of the dataset\n",
    "idx = -1\n",
    "\n",
    "# extract image and metadata:\n",
    "images, metadata = sdomlds.__getitem__(idx)"
   ]
  },
  {
   "cell_type": "markdown",
   "id": "1dbebb7f",
   "metadata": {},
   "source": [
    "``SDOMLDataset()`` returns both image, and metadata. \n",
    "\n",
    "For the example here, the full image dataset is of size ``(6133, 6, 512, 512)``, where there are 6133 co-temporal observations, each with 6 channels of ``(512, 512)``.\n",
    "\n",
    "* The ``images`` returned by ``__getitem__(idx)`` are of size: ``(1, 6, 512, 512)``, where each of the 6133 items consist of 6 co-temporal observations (SDO/AIA ``[94, 131, 171, 193, 211, 335]``) of ``torch.Size([512, 512])``. \n",
    "\n",
    "\n",
    "* The ``metadata`` is a dictionary of 175 key-value pairs. Each keys value is a list of 6 elements (which directly corresponds to the 6 channels in the image data). A small excerpt of this dictionary is shown below for ``['DEG_COR', 'EXPTIME', 'WAVELNTH', 'T_OBS']``:\n",
    "\n",
    "\n",
    "```\n",
    "{\n",
    "    'DEG_COR': [1.083, 0.950019, 0.99739, 0.99217, 0.982774, 0.901734],\n",
    "    'EXPTIME': [2.901124, 2.901351, 1.999653, 2.000068, 2.900861, 2.900854],\n",
    "    'WAVELNTH': [94, 131, 171, 193, 211, 335],\n",
    "    'T_OBS': \n",
    "       ['2010-08-01T00:00:09.57Z',\n",
    "        '2010-08-01T00:00:11.07Z',\n",
    "        '2010-08-01T00:00:01.34Z',\n",
    "        '2010-08-01T00:00:08.84Z',\n",
    "        '2010-08-01T00:00:02.07Z',\n",
    "        '2010-08-01T00:00:05.07Z'],\n",
    "}\n",
    "```"
   ]
  },
  {
   "cell_type": "markdown",
   "id": "f2226ac3",
   "metadata": {},
   "source": [
    "### Plotting one set of images\n",
    "\n",
    "For the one set of images returned from the dataloader, the following code block creates the set of ``sunpy.map`` from the ``images`` and ``metadata``."
   ]
  },
  {
   "cell_type": "code",
   "execution_count": null,
   "id": "d2756877",
   "metadata": {},
   "outputs": [],
   "source": [
    "images = images[0]\n",
    "metadata = metadata[0]"
   ]
  },
  {
   "cell_type": "code",
   "execution_count": null,
   "id": "b9748b54",
   "metadata": {
    "scrolled": false
   },
   "outputs": [],
   "source": [
    "plt.figure(figsize=(20, 12))\n",
    "\n",
    "for img_index in range(images[0,:,0,0].shape[0]):\n",
    "    # Create a sunpy map with the data\n",
    "    selected_image = images[0,img_index,:,:]\n",
    "    selected_headr = {keys: values[img_index] for keys, values in metadata.items()}\n",
    "    my_map = sunpy.map.Map(selected_image.numpy(), selected_headr)\n",
    "    \n",
    "    # set the index and plot the sunpy.map\n",
    "    ax = plt.subplot(2, 3, img_index+1, projection=my_map)\n",
    "    my_map.plot()"
   ]
  }
 ],
 "metadata": {
  "kernelspec": {
   "display_name": "Python 3 (ipykernel)",
   "language": "python",
   "name": "python3"
  },
  "language_info": {
   "codemirror_mode": {
    "name": "ipython",
    "version": 3
   },
   "file_extension": ".py",
   "mimetype": "text/x-python",
   "name": "python",
   "nbconvert_exporter": "python",
   "pygments_lexer": "ipython3",
   "version": "3.8.0"
  }
 },
 "nbformat": 4,
 "nbformat_minor": 5
}
