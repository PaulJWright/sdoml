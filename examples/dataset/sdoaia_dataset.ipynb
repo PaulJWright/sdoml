{
 "cells": [
  {
   "cell_type": "code",
   "execution_count": 1,
   "id": "5cdea499",
   "metadata": {},
   "outputs": [],
   "source": [
    "import sunpy.map\n",
    "import torch\n",
    "\n",
    "import matplotlib.pyplot as plt\n",
    "import numpy as np\n",
    "\n",
    "from sdoml import SDOMLDataset\n",
    "from timeit import default_timer as timer"
   ]
  },
  {
   "cell_type": "code",
   "execution_count": null,
   "id": "bc546acd",
   "metadata": {},
   "outputs": [],
   "source": [
    "# load the dataset with the six optically thin SDO/AIA channels (94A/131A/171A/193A/211A/335A) \n",
    "# from ``fdl-sdoml-v2/sdomlv2_small.zarr``\n",
    "\n",
    "sdomlds = SDOMLDataset(\n",
    "    storage_location=\"gcs\",\n",
    "    zarr_root=\"fdl-sdoml-v2/sdomlv2_small.zarr/\",\n",
    "    cache_max_size=1*512*512*8192,\n",
    "    years=[\"2010\"],\n",
    "    instruments=[\"AIA\"],\n",
    "    channels=[\"94A\", \"131A\", \"171A\", \"193A\", \"211A\", \"335A\"],\n",
    "    required_keys=None,\n",
    ")"
   ]
  },
  {
   "cell_type": "code",
   "execution_count": null,
   "id": "c2e950ff",
   "metadata": {},
   "outputs": [],
   "source": [
    "# first data access is relatively slow, retrieved from remote store on Google Cloud Storage.\n",
    "# The second data access is faster, uses cache\n",
    "# For more information see: https://zarr.readthedocs.io/en/stable/api/storage.html#zarr.storage.LRUStoreCache\n",
    "images, metad = sdomlds.__getitem__(324)\n",
    "\n",
    "print(f\"images.shape: {images.shape}\")"
   ]
  },
  {
   "cell_type": "markdown",
   "id": "1bc171c3",
   "metadata": {},
   "source": [
    "### Plotting one set of data"
   ]
  },
  {
   "cell_type": "code",
   "execution_count": null,
   "id": "97579a3b",
   "metadata": {
    "scrolled": false
   },
   "outputs": [],
   "source": [
    "plt.figure(figsize=(20, 12))\n",
    "\n",
    "for img_index in range(0,6):\n",
    "\n",
    "    # Create a sunpy map with the data\n",
    "    selected_image = images[0,img_index,:,:]\n",
    "    selected_headr = {keys: values[img_index] for keys, values in metad.items()}\n",
    "    my_map = sunpy.map.Map((np.array(selected_image), selected_headr))\n",
    "    \n",
    "    # set the index and plot the sunpy.map\n",
    "    ax = plt.subplot(2, 3, img_index+1, projection=my_map)\n",
    "    my_map.plot()"
   ]
  }
 ],
 "metadata": {
  "kernelspec": {
   "display_name": "Python 3 (ipykernel)",
   "language": "python",
   "name": "python3"
  },
  "language_info": {
   "codemirror_mode": {
    "name": "ipython",
    "version": 3
   },
   "file_extension": ".py",
   "mimetype": "text/x-python",
   "name": "python",
   "nbconvert_exporter": "python",
   "pygments_lexer": "ipython3",
   "version": "3.8.0"
  }
 },
 "nbformat": 4,
 "nbformat_minor": 5
}
