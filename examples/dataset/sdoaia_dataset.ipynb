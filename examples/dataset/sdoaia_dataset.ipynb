{
 "cells": [
  {
   "cell_type": "code",
   "execution_count": null,
   "id": "ae4e5319",
   "metadata": {},
   "outputs": [],
   "source": [
    "import sunpy.map\n",
    "\n",
    "import matplotlib.pyplot as plt\n",
    "import numpy as np\n",
    "\n",
    "from sdoml import SDOMLDataset\n",
    "from timeit import default_timer as timer"
   ]
  },
  {
   "cell_type": "markdown",
   "id": "9e4709b3",
   "metadata": {},
   "source": [
    "First, we will instantiate the ``SDOMLDataset`` class, to load one month of \n",
    "the six optically-thin SDO/AIA channels (94A/131A/171A/193A/211A/335A) \n",
    "from ``fdl-sdoml-v2/sdomlv2_small.zarr``"
   ]
  },
  {
   "cell_type": "code",
   "execution_count": null,
   "id": "746f698c",
   "metadata": {},
   "outputs": [],
   "source": [
    "# load the dataset with the six optically thin SDO/AIA channels (94A/131A/171A/193A/211A/335A) \n",
    "# from ``fdl-sdoml-v2/sdomlv2_small.zarr``\n",
    "\n",
    "sdomlds = SDOMLDataset(\n",
    "    storage_location=\"gcs\",\n",
    "    zarr_root=\"fdl-sdoml-v2/sdomlv2_small.zarr/\",\n",
    "    cache_max_size=1*512*512*8192,\n",
    "    years=[\"2010\"],\n",
    "    instruments=[\"AIA\"],\n",
    "    channels=[\"94A\", \"131A\", \"171A\", \"193A\", \"211A\", \"335A\"],\n",
    "    required_keys=None,\n",
    ")"
   ]
  },
  {
   "cell_type": "markdown",
   "id": "e408fb06",
   "metadata": {},
   "source": [
    "Next, we will directly access the dataloader using ``__getitem__()``. \n",
    "\n",
    "The first data access is relatively slow, as it is retrieved from remote store on Google Cloud Storage; the second data access is faster, as this uses cache.\n",
    "\n",
    "For more information see, https://zarr.readthedocs.io/en/stable/api/storage.html#zarr.storage.LRUStoreCache"
   ]
  },
  {
   "cell_type": "code",
   "execution_count": null,
   "id": "d7439a3a",
   "metadata": {},
   "outputs": [],
   "source": [
    "index = 0\n",
    "images, metad = sdomlds.__getitem__(index)"
   ]
  },
  {
   "cell_type": "code",
   "execution_count": null,
   "id": "294cc7a3",
   "metadata": {},
   "outputs": [],
   "source": [
    "# print the shapes\n",
    "print(f\"images.shape: {images.shape}\")\n",
    "print(f\"There are {len(metad.keys)} keys\")"
   ]
  },
  {
   "cell_type": "markdown",
   "id": "e9785f4a",
   "metadata": {},
   "source": [
    "### Plotting one set of data\n",
    "\n",
    "For the one set of images returned from the dataloader, the following for loop creates a set of ``sunpy.map``, which are plotted with the appropriate colorscale."
   ]
  },
  {
   "cell_type": "code",
   "execution_count": null,
   "id": "dbe37de6",
   "metadata": {
    "scrolled": false
   },
   "outputs": [],
   "source": [
    "plt.figure(figsize=(20, 12))\n",
    "\n",
    "for img_index in range(0,6):\n",
    "\n",
    "    # Create a sunpy map with the data\n",
    "    selected_image = images[0,img_index,:,:]\n",
    "    selected_headr = {keys: values[img_index] for keys, values in metad.items()}\n",
    "    my_map = sunpy.map.Map((np.array(selected_image), selected_headr))\n",
    "    \n",
    "    # set the index and plot the sunpy.map\n",
    "    ax = plt.subplot(2, 3, img_index+1, projection=my_map)\n",
    "    my_map.plot()"
   ]
  }
 ],
 "metadata": {
  "kernelspec": {
   "display_name": "Python 3 (ipykernel)",
   "language": "python",
   "name": "python3"
  },
  "language_info": {
   "codemirror_mode": {
    "name": "ipython",
    "version": 3
   },
   "file_extension": ".py",
   "mimetype": "text/x-python",
   "name": "python",
   "nbconvert_exporter": "python",
   "pygments_lexer": "ipython3",
   "version": "3.8.0"
  }
 },
 "nbformat": 4,
 "nbformat_minor": 5
}
