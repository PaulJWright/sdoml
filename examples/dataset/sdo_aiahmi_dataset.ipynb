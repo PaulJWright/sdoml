{
 "cells": [
  {
   "cell_type": "code",
   "execution_count": null,
   "id": "14168ec2",
   "metadata": {
    "scrolled": true
   },
   "outputs": [],
   "source": [
    "pip install -e ../../."
   ]
  },
  {
   "cell_type": "code",
   "execution_count": null,
   "id": "edff6dc6",
   "metadata": {},
   "outputs": [],
   "source": [
    "import sunpy.map\n",
    "\n",
    "import matplotlib.pyplot as plt\n",
    "\n",
    "from sdoml import SDOMLDataset\n",
    "from timeit import default_timer as timer"
   ]
  },
  {
   "cell_type": "markdown",
   "id": "f9b64024",
   "metadata": {},
   "source": [
    "First, we will instantiate the ``SDOMLDataset`` class, to load one month of \n",
    "the six optically-thin SDO/AIA channels (94A/131A/171A/193A/211A/335A) alongside the 3 components of the HMI magnetograms (Bx, By, Bz)\n",
    "from ``fdl-sdoml-v2/sdomlv2_small.zarr`` and ``fdl-sdoml-v2/sdomlv2_hmi_small.zarr/``"
   ]
  },
  {
   "cell_type": "code",
   "execution_count": null,
   "id": "237ffab5",
   "metadata": {
    "scrolled": false
   },
   "outputs": [],
   "source": [
    "sdomlds = SDOMLDataset(\n",
    "    cache_max_size=1 * 512 * 512 * 4096,\n",
    "    years=[\"2010\",],\n",
    "    data_to_load={\n",
    "        \"AIA\": {\n",
    "            \"location\": \"gcs\",\n",
    "            \"root\": \"fdl-sdoml-v2/sdomlv2_small.zarr/\",\n",
    "            \"channels\": [\"94A\", \"131A\", \"171A\", \"193A\", \"211A\", \"335A\"],\n",
    "        },\n",
    "        \"HMI\": {\n",
    "            \"location\": \"gcs\",\n",
    "            \"root\": \"fdl-sdoml-v2/sdomlv2_hmi_small.zarr/\",\n",
    "            \"channels\": [\"Bx\", \"By\", \"Bz\"],\n",
    "        }, \n",
    "    },\n",
    ")"
   ]
  },
  {
   "cell_type": "markdown",
   "id": "e7769b16",
   "metadata": {},
   "source": [
    "With the Dataset instantiated, we will directly access the dataset using the ``__getitem__`` method. ``sdomlds.__getitem__(idx)`` loads and returns a sample from the dataset at the given index ``idx``.  \n",
    "\n",
    "As will be evident, the first data access for this index is relatively slow (it is retrieved from remote store on Google Cloud Storage), however the second data access is faster, as this uses cache. For more information see https://zarr.readthedocs.io/en/stable/api/storage.html#zarr.storage.LRUStoreCache"
   ]
  },
  {
   "cell_type": "code",
   "execution_count": null,
   "id": "a4e8011c",
   "metadata": {},
   "outputs": [],
   "source": [
    "# obtain the first item of the dataset\n",
    "idx = 0\n",
    "\n",
    "# extract image and metadata:\n",
    "images, metadata = sdomlds.__getitem__(idx)"
   ]
  },
  {
   "cell_type": "markdown",
   "id": "833f29b8",
   "metadata": {},
   "source": [
    "``SDOMLDataset()`` returns both image, and metadata. \n",
    "\n",
    "For the example here, the full image dataset is of size ``(6133, 9, 512, 512)``, where there are 6133 co-temporal observations, each with 9 channels of ``(512, 512)``.\n",
    "\n",
    "* The ``images`` returned by ``__getitem__(idx)`` are of size: ``(1, 9, 512, 512)``, where each of the 6133 items consist of 6 co-temporal observations (SDO/AIA ``[94, 131, 171, 193, 211, 335]``); SDO/HMI ``[Bx, By, Bz]`` of ``torch.Size([512, 512])``. \n",
    "\n",
    "\n",
    "* The ``metadata`` is a dictionary of 281 key-value pairs (the union of both AIA (175) and HMI (147)). Each keys value is a list of 9 elements (which corresponds to the 9 channels in the image data; some keys have data associated with HMI, and others AIA). A small excerpt of this dictionary is shown below for ``['DEG_COR', 'EXPTIME', 'WAVELNTH', 'T_OBS']``, where ``DEG_COR`` and ``EXPTIME`` are SDO/AIA keys, and ``WAVELNTH`` and ``T_OBS`` are present for both instruments. A value that does not exist is entered as ``pandas._libs.missing.NAType``\n",
    "\n",
    "\n",
    "```\n",
    "{\n",
    "    'DEG_COR': [1.083, 0.950019, 0.99739, 0.99217, 0.982774, 0.901734, <NA>, <NA>, <NA>],\n",
    "    'EXPTIME': [2.901124, 2.901351, 1.999653, 2.000068, 2.900861, 2.900854, <NA>, <NA>, <NA>],\n",
    "    'WAVELNTH': [94, 131, 171, 193, 211, 335, 6173.0, 6173.0, 6173.0],\n",
    "    'T_OBS':\n",
    "       ['2010-08-01T00:00:09.57Z',\n",
    "        '2010-08-01T00:00:11.07Z',\n",
    "        '2010-08-01T00:00:01.34Z',\n",
    "        '2010-08-01T00:00:08.84Z',\n",
    "        '2010-08-01T00:00:02.07Z',\n",
    "        '2010-08-01T00:00:05.07Z',\n",
    "        '2010.08.01_00:00:07_TAI',\n",
    "        '2010.08.01_00:00:07_TAI',\n",
    "        '2010.08.01_00:00:07_TAI']\n",
    "}\n",
    "```"
   ]
  },
  {
   "cell_type": "markdown",
   "id": "ca547f29",
   "metadata": {},
   "source": [
    "### Plotting one set of images\n",
    "\n",
    "For the one set of images returned from the dataloader, the following code block creates the set of ``sunpy.map`` from the ``images`` and ``metadata``."
   ]
  },
  {
   "cell_type": "code",
   "execution_count": null,
   "id": "411e731f",
   "metadata": {},
   "outputs": [],
   "source": [
    "instrument.shape"
   ]
  },
  {
   "cell_type": "code",
   "execution_count": null,
   "id": "8e05d6eb",
   "metadata": {
    "scrolled": false
   },
   "outputs": [],
   "source": [
    "plt.figure(figsize=(20, 20))\n",
    "\n",
    "i = 0\n",
    "for meta, instrument in zip(metadata, images):\n",
    "    print(instrument.shape)\n",
    "    for img_index in range(instrument[0,:,0,0].shape[0]):\n",
    "        # Create a sunpy map with the data\n",
    "        selected_image = instrument[0,img_index,:,:]\n",
    "        selected_headr = {keys: values[img_index] for keys, values in meta.items()}\n",
    "        my_map = sunpy.map.Map(selected_image.numpy(), selected_headr)\n",
    "\n",
    "        # set the index and plot the sunpy.map\n",
    "        ax = plt.subplot(3, 3, i+1, projection=my_map)\n",
    "\n",
    "        if my_map.meta['instrume'][0:3] == 'HMI':\n",
    "            my_map.plot_settings['cmap'] = \"hmimag\"\n",
    "            my_map.plot_settings['norm'] = plt.Normalize(-1000.,1000.)\n",
    "\n",
    "        my_map.plot()\n",
    "        \n",
    "        i+=1"
   ]
  },
  {
   "cell_type": "code",
   "execution_count": null,
   "id": "4af24115",
   "metadata": {},
   "outputs": [],
   "source": []
  }
 ],
 "metadata": {
  "kernelspec": {
   "display_name": "Python 3 (ipykernel)",
   "language": "python",
   "name": "python3"
  },
  "language_info": {
   "codemirror_mode": {
    "name": "ipython",
    "version": 3
   },
   "file_extension": ".py",
   "mimetype": "text/x-python",
   "name": "python",
   "nbconvert_exporter": "python",
   "pygments_lexer": "ipython3",
   "version": "3.8.0"
  }
 },
 "nbformat": 4,
 "nbformat_minor": 5
}
