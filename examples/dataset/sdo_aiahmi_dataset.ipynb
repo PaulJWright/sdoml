{
 "cells": [
  {
   "cell_type": "code",
   "execution_count": null,
   "id": "3998972b",
   "metadata": {},
   "outputs": [],
   "source": [
    "import ast\n",
    "import sunpy.map\n",
    "import torch\n",
    "\n",
    "import matplotlib.pyplot as plt\n",
    "\n",
    "from sdoml import SDOMLDataset\n",
    "from timeit import default_timer as timer"
   ]
  },
  {
   "cell_type": "markdown",
   "id": "79757b75",
   "metadata": {},
   "source": [
    "First, we will instantiate the ``SDOMLDataset`` class, to load one month of \n",
    "the six optically-thin SDO/AIA channels (94A/131A/171A/193A/211A/335A) alongside the 3 components of the HMI magnetograms (Bx, By, Bz)\n",
    "from ``fdl-sdoml-v2/sdomlv2_small.zarr`` and ``fdl-sdoml-v2/sdomlv2_hmi_small.zarr/``. \n",
    "\n",
    "**For an in-depth overview of accessing data, see the AIA example notebook!**"
   ]
  },
  {
   "cell_type": "code",
   "execution_count": null,
   "id": "c86e164d",
   "metadata": {
    "scrolled": false
   },
   "outputs": [],
   "source": [
    "sdomlds = SDOMLDataset(\n",
    "    cache_max_size=1 * 512 * 512 * 4096,\n",
    "    years=[\n",
    "        \"2010\",\n",
    "    ],\n",
    "    data_to_load={\n",
    "        \"AIA\": {\n",
    "            \"storage_location\": \"gcs\",\n",
    "            \"root\": \"/Users/pwright/Documents/work/spaceml/data/sdomlv2_small.zarr\",\n",
    "            \"channels\": [\"94A\", \"131A\", \"171A\", \"193A\", \"211A\", \"335A\"],\n",
    "        },\n",
    "        \"HMI\": {\n",
    "            \"storage_location\": \"gcs\",\n",
    "            \"root\": \"/Users/pwright/Documents/work/spaceml/data/sdomlv2_hmi_small.zarr\",\n",
    "            \"channels\": [\"Bx\", \"By\", \"Bz\"],\n",
    "        },\n",
    "    },\n",
    ")"
   ]
  },
  {
   "cell_type": "markdown",
   "id": "53ca1430",
   "metadata": {},
   "source": [
    "Let's use the ``torch.utils.data.DataLoader`` iterator with a ``batch_size`` of 1, and no shuffling of the data.\n",
    "\n",
    "As will be evident, the first data access for a given chunk is relatively slow (it is retrieved from remote store on Google Cloud Storage), however the second data access is faster, as this uses cache. For more information see https://zarr.readthedocs.io/en/stable/api/storage.html#zarr.storage.LRUStoreCache"
   ]
  },
  {
   "cell_type": "code",
   "execution_count": null,
   "id": "93bf8a27",
   "metadata": {},
   "outputs": [],
   "source": [
    "dataloader = torch.utils.data.DataLoader(\n",
    "    sdomlds,\n",
    "    batch_size=1,\n",
    "    shuffle=False,\n",
    ")"
   ]
  },
  {
   "cell_type": "code",
   "execution_count": null,
   "id": "0d8fe57a",
   "metadata": {},
   "outputs": [],
   "source": [
    "data = next(iter(dataloader))"
   ]
  },
  {
   "cell_type": "markdown",
   "id": "d6677e64",
   "metadata": {},
   "source": [
    "### Plotting one set of images\n",
    "\n",
    "For the one set of images returned from the dataloader, the following code block creates the set of ``sunpy.map`` from the ``images`` and ``metadata``."
   ]
  },
  {
   "cell_type": "code",
   "execution_count": null,
   "id": "05181452",
   "metadata": {
    "scrolled": false
   },
   "outputs": [],
   "source": [
    "plt.figure(figsize=(20, 20))\n",
    "\n",
    "i = 0\n",
    "# iterate through instruments (here there is only AIA and HMI)\n",
    "for inst in data[\"data\"]:\n",
    "    # iterate through the channels for a give batch_index\n",
    "    for img_index in range(data[\"data\"][inst][0, :, 0, 0].shape[0]):\n",
    "        # Create a sunpy map with the data\n",
    "        selected_image = data[\"data\"][inst][0, img_index, :, :]\n",
    "        selected_headr = {\n",
    "            keys: values[img_index]\n",
    "            for keys, values in ast.literal_eval(data[\"meta\"][inst][0]).items()\n",
    "        }\n",
    "        my_map = sunpy.map.Map(selected_image.numpy(), selected_headr)\n",
    "\n",
    "        # set the index and plot the sunpy.map\n",
    "        ax = plt.subplot(3, 3, i + 1, projection=my_map)\n",
    "\n",
    "        if my_map.meta[\"instrume\"][0:3] == \"HMI\":\n",
    "            my_map.plot_settings[\"cmap\"] = \"hmimag\"\n",
    "            my_map.plot_settings[\"norm\"] = plt.Normalize(-1000.0, 1000.0)\n",
    "\n",
    "        my_map.plot()\n",
    "\n",
    "        i += 1"
   ]
  },
  {
   "cell_type": "markdown",
   "id": "4b778340",
   "metadata": {},
   "source": [
    "---"
   ]
  }
 ],
 "metadata": {
  "kernelspec": {
   "display_name": "Python 3 (ipykernel)",
   "language": "python",
   "name": "python3"
  },
  "language_info": {
   "codemirror_mode": {
    "name": "ipython",
    "version": 3
   },
   "file_extension": ".py",
   "mimetype": "text/x-python",
   "name": "python",
   "nbconvert_exporter": "python",
   "pygments_lexer": "ipython3",
   "version": "3.8.0"
  }
 },
 "nbformat": 4,
 "nbformat_minor": 5
}
