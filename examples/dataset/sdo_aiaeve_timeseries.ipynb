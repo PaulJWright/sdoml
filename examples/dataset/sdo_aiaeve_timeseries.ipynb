{
 "cells": [
  {
   "cell_type": "markdown",
   "id": "399f01b0",
   "metadata": {},
   "source": [
    "# Time-series: SDO/AIA & SDO/EVE (MEGS-A)"
   ]
  },
  {
   "cell_type": "code",
   "execution_count": null,
   "id": "1206e0f6",
   "metadata": {},
   "outputs": [],
   "source": [
    "import ast\n",
    "import sunpy.map\n",
    "import torch\n",
    "\n",
    "import matplotlib.pyplot as plt\n",
    "import numpy as np\n",
    "import pandas as pd\n",
    "\n",
    "from sdoml import SDOMLDataset\n",
    "from sdoml.sources import DataSource\n",
    "\n",
    "from timeit import default_timer as timer"
   ]
  },
  {
   "cell_type": "markdown",
   "id": "f86f490c",
   "metadata": {},
   "source": [
    "First, we will instantiate the ``SDOMLDataset`` class, to load one month of \n",
    "the six optically-thin SDO/AIA channels (94A/193A/211A) alongside EVE MEGS-A Irradiance from Fe XVIII/XII/XIV which are the primary source ions for the aforementioned channels from ``fdl-sdoml-v2/sdomlv2_small.zarr`` and ``fdl-sdoml-v2/sdomlv2_eve.zarr/``"
   ]
  },
  {
   "cell_type": "code",
   "execution_count": null,
   "id": "ec4c8b68",
   "metadata": {},
   "outputs": [],
   "source": [
    "data_to_load = {\n",
    "    \"AIA\": {\n",
    "        \"root\": \"s3://gov-nasa-hdrl-data1/contrib/fdl-sdoml/fdl-sdoml-v2/sdomlv2_small.zarr/\",\n",
    "        \"channels\": [\"94A\", \"193A\", \"211A\"],\n",
    "    },\n",
    "    \"EVE\": {\n",
    "        \"root\": \"s3://gov-nasa-hdrl-data1/contrib/fdl-sdoml/fdl-sdoml-v2/sdomlv2_eve.zarr/\",\n",
    "        \"channels\": [\"Fe XVIII\", \"Fe XII\", \"Fe XIV\"],\n",
    "    },\n",
    "}\n",
    "\n",
    "datasource_arr = [DataSource(instrument=k, meta=v) for k, v in data_to_load.items()]"
   ]
  },
  {
   "cell_type": "code",
   "execution_count": null,
   "id": "ee2923ee",
   "metadata": {},
   "outputs": [],
   "source": [
    "sdomlds = SDOMLDataset(\n",
    "    cache_max_size=1 * 512 * 512 * 2048,\n",
    "    years=[\n",
    "        \"2010\",\n",
    "    ],\n",
    "    data_to_load=datasource_arr,\n",
    ")"
   ]
  },
  {
   "cell_type": "markdown",
   "id": "ebafbf1d",
   "metadata": {},
   "source": [
    "With the Dataset instantiated, while we could directly access the dataset using the ``__getitem__`` method ( ``sdomlds.__getitem__(idx)`` loads and returns single sample from the dataset at the given index ``idx``), we will use the ``torch.utils.data.DataLoader`` iterator with a ``batch_size`` of 64, and no shuffling of the data.\n",
    "\n",
    "As will be evident, the first data access for a given chunk is relatively slow (it is retrieved from remote store on Google Cloud Storage), however the second data access is faster, as this uses cache. For more information see https://zarr.readthedocs.io/en/stable/api/storage.html#zarr.storage.LRUStoreCache"
   ]
  },
  {
   "cell_type": "code",
   "execution_count": null,
   "id": "73be32a3",
   "metadata": {},
   "outputs": [],
   "source": [
    "dataloader = torch.utils.data.DataLoader(\n",
    "    sdomlds,\n",
    "    batch_size=64,\n",
    "    shuffle=False,\n",
    ")"
   ]
  },
  {
   "cell_type": "code",
   "execution_count": null,
   "id": "7f296948",
   "metadata": {},
   "outputs": [],
   "source": [
    "data = next(iter(dataloader))"
   ]
  },
  {
   "cell_type": "markdown",
   "id": "66b6e98b",
   "metadata": {},
   "source": [
    "``SDOMLDataset()`` returns both image, and metadata as a single dictionary:\n",
    "\n",
    "```\n",
    "In:  data.keys()\n",
    "Out: dict_keys(['data', 'meta'])\n",
    "```\n",
    "\n",
    "* The ``images`` returned by ``__getitem__(idx)`` for a single observations is of size: ``(1, 3, 512, 512)``, where each item contains of the 3 requested co-temporal observations (SDO/AIA ``[94, 193, 211]``) of ``torch.Size([512, 512])``. As shown below, with a batch size of 64, the data is of ``torch.Size([64, 3, 512, 512])``\n",
    "\n",
    "```\n",
    "In:  data['data'].keys()\n",
    "Out: dict_keys(['AIA', 'EVE'])\n",
    "In:  data['data']['AIA'].shape\n",
    "Out: torch.Size([64, 3, 512, 512])\n",
    "```\n",
    "\n",
    "* The ``metadata`` for AIA is a list of ``str(dictionary)``, each with 175 key-value pairs. EVE is stored similarly, with each dictionary containing 3 key-value pairs. As shown below, the length of these data is 64.\n",
    "\n",
    "```\n",
    "In:  data['meta'].keys()\n",
    "Out: dict_keys(['AIA', 'EVE'])\n",
    "In:  len(data['meta']['AIA'])\n",
    "Out: 64\n",
    "```\n",
    "\n",
    "A small excerpt of the AIA dictionary (for index 0 in the batch of 64) is shown below for ``['DEG_COR', 'EXPTIME', 'WAVELNTH', 'T_OBS']``.\n",
    "\n",
    "\n",
    "```\n",
    "> batch_index = 0\n",
    "> data['data']['AIA'][batch_index].shape\n",
    "torch.Size([3, 512, 512])\n",
    "\n",
    "> ast.literal_eval(data['meta']['AIA'][batch_index])\n",
    "\n",
    "{\n",
    "    ...\n",
    "    'DEG_COR': [1.083, 0.99217, 0.982774],\n",
    "    'EXPTIME': [2.901124, 2.000068, 2.900861],\n",
    "    'WAVELNTH': [94, 193, 211],\n",
    "    'T_OBS': ['2010-08-01T00:00:09.57Z',\n",
    "              '2010-08-01T00:00:08.84Z',\n",
    "              '2010-08-01T00:00:02.07Z']\n",
    "    ...\n",
    "}\n",
    "```\n",
    "\n",
    "And the whole dictionary is shown for EVE:\n",
    "\n",
    "```\n",
    "> batch_index = 0\n",
    "> data['data']['EVE'][batch_index]\n",
    "tensor([4.6366e-06, 3.7070e-05, 1.6266e-05])\n",
    "\n",
    "> ast.literal_eval(data['meta']['EVE'][batch_index])\n",
    "\n",
    "Out:\n",
    "{\n",
    "    'ion': ['Fe XVIII', 'Fe XII', 'Fe XIV'],\n",
    "    'logT': ['6.81 MK', '6.13 MK', '6.27 MK'],\n",
    "    'wavelength': ['9.3926 nm', '19.512 nm', '21.1331 nm']\n",
    "}\n",
    "```"
   ]
  },
  {
   "cell_type": "markdown",
   "id": "d33dfa86",
   "metadata": {},
   "source": [
    "alternatively, one can just use list comprehension to get a ``np.array`` of dictionaries for the instrument and batch: "
   ]
  },
  {
   "cell_type": "code",
   "execution_count": null,
   "id": "dadf88e9",
   "metadata": {},
   "outputs": [],
   "source": [
    "aia_meta = np.array(\n",
    "    [ast.literal_eval(data[\"meta\"][\"AIA\"][i]) for i in range(len(data[\"meta\"][\"AIA\"]))]\n",
    ")\n",
    "eve_meta = np.array(\n",
    "    [ast.literal_eval(data[\"meta\"][\"EVE\"][i]) for i in range(len(data[\"meta\"][\"EVE\"]))]\n",
    ")"
   ]
  },
  {
   "cell_type": "markdown",
   "id": "be21d489",
   "metadata": {},
   "source": [
    "### Plotting SDO/AIA, SDO/EVE MEGS-A time-series\n",
    "\n",
    "The following code blocks will plot the time-series from SDO/AIA (94/193/211) and their respective primary source ions (obtained from SDO/EVE MEGS-A)"
   ]
  },
  {
   "cell_type": "code",
   "execution_count": null,
   "id": "69a479db",
   "metadata": {},
   "outputs": [],
   "source": [
    "times = []\n",
    "\n",
    "# !TODO need to add 'T_OBS' to EVE metadata\n",
    "times.extend(aia_meta[i][\"T_OBS\"][0] for i in range(len(data[\"meta\"][\"AIA\"])))"
   ]
  },
  {
   "cell_type": "code",
   "execution_count": null,
   "id": "a54ded89",
   "metadata": {
    "tags": [
     "nbsphinx-thumbnail"
    ]
   },
   "outputs": [],
   "source": [
    "\n",
    "plt.figure(figsize=(15, 5))\n",
    "\n",
    "colours = [\"cadetblue\", \"darkorange\", \"lightcoral\"]\n",
    "\n",
    "for aia_index, aia_data in enumerate(\n",
    "    data[\"data\"][\"AIA\"][:, :, :, :].mean(dim=[2, 3]).T\n",
    "):\n",
    "    aialabel = (\n",
    "        \"SDO/AIA \"\n",
    "        + str(ast.literal_eval(data[\"meta\"][\"AIA\"][0])[\"WAVELNTH\"][aia_index])\n",
    "        + \" Å\"\n",
    "    )\n",
    "    plt.plot(\n",
    "        pd.to_datetime(pd.Series(times)),\n",
    "        (aia_data - aia_data.mean()) / aia_data.std(),\n",
    "        \"-\",\n",
    "        lw=6,\n",
    "        alpha=0.4,\n",
    "        c=colours[aia_index],\n",
    "        label=aialabel,\n",
    "    )\n",
    "\n",
    "for eve_index in range(len(data[\"data\"][\"EVE\"].T)):\n",
    "    eve_data = data[\"data\"][\"EVE\"][:, eve_index]\n",
    "    evelabel = \"SDO/EVE \" + str(\n",
    "        ast.literal_eval(data[\"meta\"][\"EVE\"][0])[\"ion\"][eve_index]\n",
    "    )\n",
    "    plt.plot(\n",
    "        pd.to_datetime(pd.Series(times)),\n",
    "        (eve_data - eve_data.mean()) / eve_data.std(),\n",
    "        \"-o\",\n",
    "        lw=2,\n",
    "        c=colours[eve_index],\n",
    "        label=evelabel,\n",
    "    )\n",
    "\n",
    "plt.ylabel(\"Standardised Observations\")\n",
    "plt.title(\n",
    "    \"Time-series Comparison of Three SDO/AIA Channels and Their Primary Source Ions (SDO/EVE MEGS-A)\"\n",
    ")\n",
    "\n",
    "plt.legend()"
   ]
  },
  {
   "cell_type": "markdown",
   "id": "4d4bb8df",
   "metadata": {},
   "source": [
    "---"
   ]
  }
 ],
 "metadata": {
  "kernelspec": {
   "display_name": "sdoml-test-2",
   "language": "python",
   "name": "python3"
  },
  "language_info": {
   "codemirror_mode": {
    "name": "ipython",
    "version": 3
   },
   "file_extension": ".py",
   "mimetype": "text/x-python",
   "name": "python",
   "nbconvert_exporter": "python",
   "pygments_lexer": "ipython3",
   "version": "3.8.13"
  },
  "vscode": {
   "interpreter": {
    "hash": "cbf483b83fdd70462338418900c6fc19ce11305802303131e049105164ab6df2"
   }
  }
 },
 "nbformat": 4,
 "nbformat_minor": 5
}
