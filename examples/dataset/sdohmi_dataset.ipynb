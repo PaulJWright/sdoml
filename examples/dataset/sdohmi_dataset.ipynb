{
 "cells": [
  {
   "cell_type": "code",
   "execution_count": null,
   "id": "9e0b5f42",
   "metadata": {},
   "outputs": [],
   "source": [
    "import sunpy.map\n",
    "\n",
    "import matplotlib.pyplot as plt\n",
    "\n",
    "from sdoml import SDOMLDataset\n",
    "from timeit import default_timer as timer"
   ]
  },
  {
   "cell_type": "markdown",
   "id": "e527d182",
   "metadata": {},
   "source": [
    "First, we will instantiate the ``SDOMLDataset`` class, to load two years of \n",
    "the three components of Magnetogram data from SDO/HMI channels (Bx,By,Bz) \n",
    "from ``fdl-sdoml-v2/sdomlv2_hmi.zarr``"
   ]
  },
  {
   "cell_type": "code",
   "execution_count": null,
   "id": "c7b44a02",
   "metadata": {},
   "outputs": [],
   "source": [
    "sdomlds = SDOMLDataset(\n",
    "    storage_location=\"gcs\",\n",
    "    zarr_root=\"fdl-sdoml-v2/sdomlv2_hmi_small.zarr/\",\n",
    "    cache_max_size=1*512*512*8192,\n",
    "    years=[\"2010\", \"2011\"],\n",
    "    instruments=[\"HMI\"],\n",
    "    channels=[\"Bx\", \"By\", \"Bz\"],\n",
    "    required_keys=None,\n",
    ")"
   ]
  },
  {
   "cell_type": "markdown",
   "id": "e3f243ea",
   "metadata": {},
   "source": [
    "With the Dataset instantiated, we will directly access the dataset using the ``__getitem__`` method. ``sdomlds.__getitem__(idx)`` loads and returns a sample from the dataset at the given index ``idx``.  \n",
    "\n",
    "As will be evident, the first data access for this index is relatively slow (it is retrieved from remote store on Google Cloud Storage), however the second data access is faster, as this uses cache. For more information see https://zarr.readthedocs.io/en/stable/api/storage.html#zarr.storage.LRUStoreCache"
   ]
  },
  {
   "cell_type": "code",
   "execution_count": null,
   "id": "1449de7a",
   "metadata": {},
   "outputs": [],
   "source": [
    "# obtain the first item of the dataset\n",
    "idx = 0\n",
    "\n",
    "# extract image and metadata:\n",
    "images, metadata = sdomlds.__getitem__(idx)"
   ]
  },
  {
   "cell_type": "markdown",
   "id": "f09729af",
   "metadata": {},
   "source": [
    "``SDOMLDataset()`` returns both image, and metadata. \n",
    "\n",
    "For the example here, the full image dataset is of size ``(1138, 3, 512, 512)``, where there are 6133 co-temporal observations, each with the 3 components of the magnetic field vector ``(512, 512)``.\n",
    "\n",
    "* The ``images`` returned by ``__getitem__(idx)`` are of size: ``(1, 3, 512, 512)``, where each of the 1138 items consist of the 3 components of the SDO/HMI magnetograms (``[Bx, By, Bz]``) of ``torch.Size([512, 512])``. \n",
    "\n",
    "\n",
    "* The ``metadata`` is a dictionary of 147 key-value pairs. Each keys value is a list of 3 elements (which directly corresponds to the 3 channels in the image data). A small excerpt of this dictionary is shown below for ``['WAVELNTH', 'T_OBS']``:\n",
    "\n",
    "\n",
    "```\n",
    "{\n",
    "    'WAVELNTH': [6173.0, 6173.0, 6173.0],\n",
    "    'T_OBS': \n",
    "        ['2010.05.01_10:00:04_TAI',\n",
    "         '2010.05.01_10:00:04_TAI',\n",
    "         '2010.05.01_10:00:04_TAI'],\n",
    "}\n",
    "```"
   ]
  },
  {
   "cell_type": "markdown",
   "id": "4587292b",
   "metadata": {},
   "source": [
    "### Plotting one set of images\n",
    "\n",
    "For the one set of images returned from the dataloader, the following code block creates the set of ``sunpy.map`` from the ``images`` and ``metadata``."
   ]
  },
  {
   "cell_type": "code",
   "execution_count": null,
   "id": "ea360a4e",
   "metadata": {
    "scrolled": false
   },
   "outputs": [],
   "source": [
    "plt.figure(figsize=(20, 12))\n",
    "\n",
    "for img_index in range(images[0,:,0,0].shape[0]):\n",
    "    # Create a sunpy map with the data\n",
    "    selected_image = images[0,img_index,:,:]\n",
    "    selected_headr = {keys: values[img_index] for keys, values in metadata.items()}\n",
    "    my_map = sunpy.map.Map(selected_image.numpy(), selected_headr)\n",
    "    \n",
    "    # set the index and plot the sunpy.map\n",
    "    ax = plt.subplot(1, 3, img_index+1, projection=my_map)\n",
    "    \n",
    "    my_map.plot_settings['cmap'] = \"hmimag\"\n",
    "    my_map.plot_settings['norm'] = plt.Normalize(-1500,1500)\n",
    "\n",
    "    my_map.plot()"
   ]
  }
 ],
 "metadata": {
  "kernelspec": {
   "display_name": "Python 3 (ipykernel)",
   "language": "python",
   "name": "python3"
  },
  "language_info": {
   "codemirror_mode": {
    "name": "ipython",
    "version": 3
   },
   "file_extension": ".py",
   "mimetype": "text/x-python",
   "name": "python",
   "nbconvert_exporter": "python",
   "pygments_lexer": "ipython3",
   "version": "3.8.0"
  }
 },
 "nbformat": 4,
 "nbformat_minor": 5
}
