{
 "cells": [
  {
   "cell_type": "code",
   "execution_count": null,
   "id": "36053b71",
   "metadata": {},
   "outputs": [],
   "source": [
    "pip install -e ../../."
   ]
  },
  {
   "cell_type": "code",
   "execution_count": null,
   "id": "35fb7de8",
   "metadata": {},
   "outputs": [],
   "source": [
    "import sunpy.map\n",
    "\n",
    "import matplotlib.pyplot as plt\n",
    "\n",
    "from sdoml import SDOMLDataset\n",
    "from timeit import default_timer as timer"
   ]
  },
  {
   "cell_type": "markdown",
   "id": "323e284d",
   "metadata": {},
   "source": [
    "First, we will instantiate the ``SDOMLDataset`` class, to load two years of \n",
    "the three components of Magnetogram data from SDO/HMI channels (Bx,By,Bz) \n",
    "from ``fdl-sdoml-v2/sdomlv2_hmi.zarr``"
   ]
  },
  {
   "cell_type": "code",
   "execution_count": null,
   "id": "cbfd8714",
   "metadata": {},
   "outputs": [],
   "source": [
    "sdomlds = SDOMLDataset(\n",
    "    cache_max_size=1 * 512 * 512 * 4096,\n",
    "    years=[\"2010\"],\n",
    "    data_to_load={\n",
    "        \"HMI\": {\n",
    "            \"location\": \"gcs\",\n",
    "            \"root\": \"fdl-sdoml-v2/sdomlv2_hmi_small.zarr/\",\n",
    "            \"channels\": [\"Bx\", \"By\", \"Bz\"],\n",
    "        }, \n",
    "    },\n",
    ")"
   ]
  },
  {
   "cell_type": "markdown",
   "id": "bf88cfff",
   "metadata": {},
   "source": [
    "With the Dataset instantiated, we will directly access the dataset using the ``__getitem__`` method. ``sdomlds.__getitem__(idx)`` loads and returns a sample from the dataset at the given index ``idx``.  \n",
    "\n",
    "As will be evident, the first data access for this index is relatively slow (it is retrieved from remote store on Google Cloud Storage), however the second data access is faster, as this uses cache. For more information see https://zarr.readthedocs.io/en/stable/api/storage.html#zarr.storage.LRUStoreCache"
   ]
  },
  {
   "cell_type": "code",
   "execution_count": null,
   "id": "7f0c29e0",
   "metadata": {},
   "outputs": [],
   "source": [
    "# obtain the first item of the dataset\n",
    "idx = 0\n",
    "\n",
    "# extract image and metadata:\n",
    "images, metadata = sdomlds.__getitem__(idx)"
   ]
  },
  {
   "cell_type": "markdown",
   "id": "b3743451",
   "metadata": {},
   "source": [
    "``SDOMLDataset()`` returns both image, and metadata. \n",
    "\n",
    "For the example here, the full image dataset is of size ``(1138, 3, 512, 512)``, where there are 6133 co-temporal observations, each with the 3 components of the magnetic field vector ``(512, 512)``.\n",
    "\n",
    "* The ``images`` returned by ``__getitem__(idx)`` are of size: ``(1, 3, 512, 512)``, where each of the 1138 items consist of the 3 components of the SDO/HMI magnetograms (``[Bx, By, Bz]``) of ``torch.Size([512, 512])``. \n",
    "\n",
    "\n",
    "* The ``metadata`` is a dictionary of 147 key-value pairs. Each keys value is a list of 3 elements (which directly corresponds to the 3 channels in the image data). A small excerpt of this dictionary is shown below for ``['WAVELNTH', 'T_OBS']``:\n",
    "\n",
    "\n",
    "```\n",
    "{\n",
    "    'WAVELNTH': [6173.0, 6173.0, 6173.0],\n",
    "    'T_OBS': \n",
    "        ['2010.05.01_10:00:04_TAI',\n",
    "         '2010.05.01_10:00:04_TAI',\n",
    "         '2010.05.01_10:00:04_TAI'],\n",
    "}\n",
    "```"
   ]
  },
  {
   "cell_type": "markdown",
   "id": "59eeeb6e",
   "metadata": {},
   "source": [
    "### Plotting one set of images\n",
    "\n",
    "For the one set of images returned from the dataloader, the following code block creates the set of ``sunpy.map`` from the ``images`` and ``metadata``."
   ]
  },
  {
   "cell_type": "code",
   "execution_count": null,
   "id": "ae5dd6b4",
   "metadata": {},
   "outputs": [],
   "source": [
    "images = images[0]\n",
    "metadata = metadata[0]"
   ]
  },
  {
   "cell_type": "code",
   "execution_count": null,
   "id": "4277f18c",
   "metadata": {
    "scrolled": false
   },
   "outputs": [],
   "source": [
    "plt.figure(figsize=(20, 12))\n",
    "\n",
    "for img_index in range(images[0,:,0,0].shape[0]):\n",
    "    # Create a sunpy map with the data\n",
    "    selected_image = images[0,img_index,:,:]\n",
    "    selected_headr = {keys: values[img_index] for keys, values in metadata.items()}\n",
    "    my_map = sunpy.map.Map(selected_image.numpy(), selected_headr)\n",
    "    \n",
    "    # set the index and plot the sunpy.map\n",
    "    ax = plt.subplot(1, 3, img_index+1, projection=my_map)\n",
    "    \n",
    "    my_map.plot_settings['cmap'] = \"hmimag\"\n",
    "    my_map.plot_settings['norm'] = plt.Normalize(-1000.,1000.)\n",
    "\n",
    "    my_map.plot()"
   ]
  }
 ],
 "metadata": {
  "kernelspec": {
   "display_name": "Python 3 (ipykernel)",
   "language": "python",
   "name": "python3"
  },
  "language_info": {
   "codemirror_mode": {
    "name": "ipython",
    "version": 3
   },
   "file_extension": ".py",
   "mimetype": "text/x-python",
   "name": "python",
   "nbconvert_exporter": "python",
   "pygments_lexer": "ipython3",
   "version": "3.8.0"
  }
 },
 "nbformat": 4,
 "nbformat_minor": 5
}
